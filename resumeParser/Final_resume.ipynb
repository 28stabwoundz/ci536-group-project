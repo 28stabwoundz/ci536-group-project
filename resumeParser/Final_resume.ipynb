{
 "cells": [
  {
   "cell_type": "code",
   "execution_count": 72,
   "id": "e788f560-f9d0-4ce9-8a55-3fd119be769e",
   "metadata": {},
   "outputs": [],
   "source": [
    "import pandas as pd\n",
    "import json\n",
    "import re"
   ]
  },
  {
   "cell_type": "code",
   "execution_count": 73,
   "id": "b62df189-cfbf-4a4a-b898-51f0ce6828f7",
   "metadata": {},
   "outputs": [],
   "source": [
    "resumes = pd.read_csv('/Users/28stabwoundz/Desktop/Uni/group-project/Resume.csv')\n",
    "resumes.columns = [col.strip().lower() for col in resumes.columns] #lowercase for columns\n",
    "for col in resumes.columns:\n",
    "    if resumes[col].dtype == object:\n",
    "        resumes[col] = resumes[col].str.lower() #strings in columns lower case\n",
    "resumes.to_csv('/Users/28stabwoundz/Desktop/Uni/group-project/Resume_lower.csv', index= False)\n",
    "with open('/Users/28stabwoundz/Desktop/Uni/group-project/job_roles.json', 'r') as f:\n",
    "    job_roles = json.load(f)\n",
    "job_dict = {job['category'].lower():job for job in job_roles}\n",
    "\n",
    "resumes_lower = pd.read_csv('/Users/28stabwoundz/Desktop/Uni/group-project/Resume_lower.csv')"
   ]
  },
  {
   "cell_type": "code",
   "execution_count": 74,
   "id": "80d82c33-8174-4dfd-84ea-00920b2c731b",
   "metadata": {},
   "outputs": [
    {
     "data": {
      "text/html": [
       "<div>\n",
       "<style scoped>\n",
       "    .dataframe tbody tr th:only-of-type {\n",
       "        vertical-align: middle;\n",
       "    }\n",
       "\n",
       "    .dataframe tbody tr th {\n",
       "        vertical-align: top;\n",
       "    }\n",
       "\n",
       "    .dataframe thead th {\n",
       "        text-align: right;\n",
       "    }\n",
       "</style>\n",
       "<table border=\"1\" class=\"dataframe\">\n",
       "  <thead>\n",
       "    <tr style=\"text-align: right;\">\n",
       "      <th></th>\n",
       "      <th>id</th>\n",
       "      <th>resume_str</th>\n",
       "      <th>resume_html</th>\n",
       "      <th>category</th>\n",
       "    </tr>\n",
       "  </thead>\n",
       "  <tbody>\n",
       "    <tr>\n",
       "      <th>0</th>\n",
       "      <td>16852973</td>\n",
       "      <td>hr administrator/marketing associate\\...</td>\n",
       "      <td>&lt;div class=\"fontsize fontface vmargins hmargin...</td>\n",
       "      <td>hr</td>\n",
       "    </tr>\n",
       "    <tr>\n",
       "      <th>1</th>\n",
       "      <td>22323967</td>\n",
       "      <td>hr specialist, us hr operations      ...</td>\n",
       "      <td>&lt;div class=\"fontsize fontface vmargins hmargin...</td>\n",
       "      <td>hr</td>\n",
       "    </tr>\n",
       "    <tr>\n",
       "      <th>2</th>\n",
       "      <td>33176873</td>\n",
       "      <td>hr director       summary      over 2...</td>\n",
       "      <td>&lt;div class=\"fontsize fontface vmargins hmargin...</td>\n",
       "      <td>hr</td>\n",
       "    </tr>\n",
       "    <tr>\n",
       "      <th>3</th>\n",
       "      <td>27018550</td>\n",
       "      <td>hr specialist       summary    dedica...</td>\n",
       "      <td>&lt;div class=\"fontsize fontface vmargins hmargin...</td>\n",
       "      <td>hr</td>\n",
       "    </tr>\n",
       "    <tr>\n",
       "      <th>4</th>\n",
       "      <td>17812897</td>\n",
       "      <td>hr manager         skill highlights  ...</td>\n",
       "      <td>&lt;div class=\"fontsize fontface vmargins hmargin...</td>\n",
       "      <td>hr</td>\n",
       "    </tr>\n",
       "  </tbody>\n",
       "</table>\n",
       "</div>"
      ],
      "text/plain": [
       "         id                                         resume_str  \\\n",
       "0  16852973           hr administrator/marketing associate\\...   \n",
       "1  22323967           hr specialist, us hr operations      ...   \n",
       "2  33176873           hr director       summary      over 2...   \n",
       "3  27018550           hr specialist       summary    dedica...   \n",
       "4  17812897           hr manager         skill highlights  ...   \n",
       "\n",
       "                                         resume_html category  \n",
       "0  <div class=\"fontsize fontface vmargins hmargin...       hr  \n",
       "1  <div class=\"fontsize fontface vmargins hmargin...       hr  \n",
       "2  <div class=\"fontsize fontface vmargins hmargin...       hr  \n",
       "3  <div class=\"fontsize fontface vmargins hmargin...       hr  \n",
       "4  <div class=\"fontsize fontface vmargins hmargin...       hr  "
      ]
     },
     "execution_count": 74,
     "metadata": {},
     "output_type": "execute_result"
    }
   ],
   "source": [
    "resumes_lower.head()\n"
   ]
  },
  {
   "cell_type": "code",
   "execution_count": 75,
   "id": "1f8b5a96-3cb5-4a8a-a74d-a6ad2a3124ff",
   "metadata": {},
   "outputs": [
    {
     "name": "stdout",
     "output_type": "stream",
     "text": [
      "Columns: ['id', 'resume_str', 'resume_html', 'category']\n",
      "\n",
      "Category Counts:\n",
      "category\n",
      "information-technology    120\n",
      "business-development      120\n",
      "finance                   118\n",
      "advocate                  118\n",
      "accountant                118\n",
      "engineering               118\n",
      "chef                      118\n",
      "aviation                  117\n",
      "fitness                   117\n",
      "sales                     116\n",
      "banking                   115\n",
      "healthcare                115\n",
      "consultant                115\n",
      "construction              112\n",
      "public-relations          111\n",
      "hr                        110\n",
      "designer                  107\n",
      "arts                      103\n",
      "teacher                   102\n",
      "apparel                    97\n",
      "digital-media              96\n",
      "agriculture                63\n",
      "automobile                 36\n",
      "bpo                        22\n",
      "Name: count, dtype: int64\n"
     ]
    }
   ],
   "source": [
    "print(\"Columns:\", resumes_lower.columns.tolist())\n",
    "print(\"\\nCategory Counts:\")\n",
    "print(resumes_lower['category'].value_counts())"
   ]
  },
  {
   "cell_type": "code",
   "execution_count": 76,
   "id": "dba1df17-8eaf-4384-b7a1-759f6ad206c8",
   "metadata": {},
   "outputs": [],
   "source": [
    "#keywords to compare to resumes\n",
    "degree_keywords = ['md', 'bachelor', 'associate', 'master', 'phd', 'nursing', 'education', 'psychology', 'paramedic', 'criminal justice']\n",
    "license_keywords = ['medical license', 'nursing license', 'security clearance', 'dog handling license', 'food hygiene certificate',\n",
    "                    'security license', 'paramedic license', 'fire safety certification', 'commercial driver’s license', 'forklift license']\n",
    "experience_pattern = re.compile(r'(\\d+)\\s*(?:years|yrs)[\\s\\w]*experience', re.IGNORECASE)\n",
    "job_keywords = ['hr', 'healthcare', 'consultant', 'law enforcement', 'advocate', 'teacher', 'chef', 'construction', 'automobile']"
   ]
  },
  {
   "cell_type": "code",
   "execution_count": 77,
   "id": "ba8c6f64-f629-47b3-a2ae-e7ef075da120",
   "metadata": {},
   "outputs": [
    {
     "name": "stdout",
     "output_type": "stream",
     "text": [
      "['id', 'resume_str', 'resume_html', 'category']\n"
     ]
    }
   ],
   "source": [
    "print(resumes_lower.columns.tolist())"
   ]
  },
  {
   "cell_type": "code",
   "execution_count": 78,
   "id": "804c0548-250d-40dc-b43f-326665236a50",
   "metadata": {},
   "outputs": [
    {
     "name": "stdout",
     "output_type": "stream",
     "text": [
      "Evaluation complete. Results saved.\n"
     ]
    }
   ],
   "source": [
    "def parse_resume(resume_text):\n",
    "    r = resume_text.lower()\n",
    "    info = {\n",
    "        'role': [],\n",
    "        'degree': [],\n",
    "        'experience': 0,\n",
    "        'licenses': [],\n",
    "        'skills': []\n",
    "    }\n",
    "\n",
    "    for job in job_keywords:\n",
    "        if job in r:\n",
    "            info['role'].append(job)\n",
    "                \n",
    "    for keyword in degree_keywords:\n",
    "        if keyword in r:\n",
    "            info['degree'].append(keyword)\n",
    "\n",
    "    for lic in license_keywords:\n",
    "        if lic in r:\n",
    "            info['licenses'].append(lic)\n",
    "\n",
    "    exp_match = experience_pattern.search(r)\n",
    "    if exp_match:\n",
    "        info['experience'] = int(exp_match.group(1))\n",
    "\n",
    "    skill_words = ['kitchen experience','social work', 'care', 'support', 'security', 'teaching', 'maintenance', 'cleaning', 'counseling', 'communication', 'handling', 'training', 'it', 'dog handling']\n",
    "    for word in skill_words:\n",
    "        if word in r:\n",
    "            info['skills'].append(word)\n",
    "\n",
    "    return info\n",
    "\n",
    "def decide(row, parsed_info):\n",
    "    role = row['category'].strip().lower()\n",
    "    if role not in job_dict:\n",
    "        return \"Rejected: Unknown role\"\n",
    "\n",
    "    job = job_dict[role]\n",
    "    \n",
    "\n",
    "    if job['degree_required']:\n",
    "        required = job['degree_required'].lower()\n",
    "        if not any(req in required for req in parsed_info['degree']):\n",
    "            return \"Rejected: Missing required degree\"\n",
    "\n",
    "\n",
    "    if parsed_info['experience'] < job['min_experience_years']:\n",
    "        return f\"Rejected: Needs ≥ {job['min_experience_years']} yrs exp\"\n",
    "\n",
    "    missing_licenses = [lic for lic in job['special_licenses'] if lic.lower() not in parsed_info['licenses']]\n",
    "    if missing_licenses:\n",
    "        return \"Rejected: Missing license(s)\"\n",
    "\n",
    "    return \"Interview\"\n",
    "\n",
    "\n",
    "parsed_info_list = resumes_lower['resume_str'].apply(parse_resume)\n",
    "resumes_lower['Decision'] = [decide(row, info) for row, info in zip(resumes_lower.to_dict(orient='records'), parsed_info_list)]\n",
    "resumes_lower['Parsed Info'] = parsed_info_list\n",
    "\n",
    "#save to new csv with results\n",
    "resumes_lower.to_csv('/Users/28stabwoundz/Desktop/Uni/group-project/Resume_Evaluation_By_Category.csv', index=False)\n",
    "print(\"Evaluation complete. Results saved.\")"
   ]
  },
  {
   "cell_type": "code",
   "execution_count": null,
   "id": "23ab5e04-06c3-4c63-8e38-346f6a381f81",
   "metadata": {},
   "outputs": [],
   "source": []
  }
 ],
 "metadata": {
  "kernelspec": {
   "display_name": "Python 3 (ipykernel)",
   "language": "python",
   "name": "python3"
  },
  "language_info": {
   "codemirror_mode": {
    "name": "ipython",
    "version": 3
   },
   "file_extension": ".py",
   "mimetype": "text/x-python",
   "name": "python",
   "nbconvert_exporter": "python",
   "pygments_lexer": "ipython3",
   "version": "3.9.18"
  }
 },
 "nbformat": 4,
 "nbformat_minor": 5
}
